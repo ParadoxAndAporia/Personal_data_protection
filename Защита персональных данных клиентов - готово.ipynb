{
 "cells": [
  {
   "cell_type": "markdown",
   "metadata": {
    "toc": true
   },
   "source": [
    "<h1>Содержание<span class=\"tocSkip\"></span></h1>\n",
    "<div class=\"toc\"><ul class=\"toc-item\"><li><span><a href=\"#Загрузка-данных\" data-toc-modified-id=\"Загрузка-данных-1\"><span class=\"toc-item-num\">1&nbsp;&nbsp;</span>Загрузка данных</a></span><ul class=\"toc-item\"><li><span><a href=\"#Вывод:\" data-toc-modified-id=\"Вывод:-1.1\"><span class=\"toc-item-num\">1.1&nbsp;&nbsp;</span>Вывод:</a></span></li></ul></li><li><span><a href=\"#Умножение-матриц\" data-toc-modified-id=\"Умножение-матриц-2\"><span class=\"toc-item-num\">2&nbsp;&nbsp;</span>Умножение матриц</a></span><ul class=\"toc-item\"><li><span><a href=\"#Вывод:\" data-toc-modified-id=\"Вывод:-2.1\"><span class=\"toc-item-num\">2.1&nbsp;&nbsp;</span>Вывод:</a></span></li></ul></li><li><span><a href=\"#Алгоритм-преобразования\" data-toc-modified-id=\"Алгоритм-преобразования-3\"><span class=\"toc-item-num\">3&nbsp;&nbsp;</span>Алгоритм преобразования</a></span><ul class=\"toc-item\"><li><span><a href=\"#Алгоритм\" data-toc-modified-id=\"Алгоритм-3.1\"><span class=\"toc-item-num\">3.1&nbsp;&nbsp;</span><strong>Алгоритм</strong></a></span></li><li><span><a href=\"#Обоснование\" data-toc-modified-id=\"Обоснование-3.2\"><span class=\"toc-item-num\">3.2&nbsp;&nbsp;</span><strong>Обоснование</strong></a></span></li><li><span><a href=\"#Вывод:\" data-toc-modified-id=\"Вывод:-3.3\"><span class=\"toc-item-num\">3.3&nbsp;&nbsp;</span>Вывод:</a></span></li></ul></li><li><span><a href=\"#Проверка-алгоритма\" data-toc-modified-id=\"Проверка-алгоритма-4\"><span class=\"toc-item-num\">4&nbsp;&nbsp;</span>Проверка алгоритма</a></span><ul class=\"toc-item\"><li><span><a href=\"#Качество-линейной-регресии-на-нешифрованных-данных\" data-toc-modified-id=\"Качество-линейной-регресии-на-нешифрованных-данных-4.1\"><span class=\"toc-item-num\">4.1&nbsp;&nbsp;</span>Качество линейной регресии на нешифрованных данных</a></span></li><li><span><a href=\"#Качество-линейной-регресии-c-шифрованием-данных\" data-toc-modified-id=\"Качество-линейной-регресии-c-шифрованием-данных-4.2\"><span class=\"toc-item-num\">4.2&nbsp;&nbsp;</span>Качество линейной регресии c шифрованием данных</a></span></li></ul></li><li><span><a href=\"#Вывод:\" data-toc-modified-id=\"Вывод:-5\"><span class=\"toc-item-num\">5&nbsp;&nbsp;</span>Вывод:</a></span></li><li><span><a href=\"#Чек-лист-проверки\" data-toc-modified-id=\"Чек-лист-проверки-6\"><span class=\"toc-item-num\">6&nbsp;&nbsp;</span>Чек-лист проверки</a></span></li></ul></div>"
   ]
  },
  {
   "cell_type": "markdown",
   "metadata": {},
   "source": [
    "# Защита персональных данных клиентов"
   ]
  },
  {
   "cell_type": "markdown",
   "metadata": {},
   "source": [
    "Нам нужно защитить данные клиентов страховой компании «Хоть потоп». Разработаем такой метод преобразования данных, чтобы по ним было сложно восстановить персональную информацию. Обоснуем корректность его работы.\n",
    "\n",
    "Нужно защитить данные, чтобы при преобразовании качество моделей машинного обучения не ухудшилось. Подбирать наилучшую модель не требуется."
   ]
  },
  {
   "cell_type": "markdown",
   "metadata": {},
   "source": [
    "## Загрузка данных"
   ]
  },
  {
   "cell_type": "code",
   "execution_count": 1,
   "metadata": {},
   "outputs": [],
   "source": [
    "import pandas as pd\n",
    "import sklearn\n",
    "import numpy as np\n",
    "from sklearn.linear_model import LinearRegression\n",
    "from sklearn.metrics import r2_score\n",
    "\n",
    "import matplotlib.pyplot as plt\n",
    "plt.style.use('seaborn-pastel')\n"
   ]
  },
  {
   "cell_type": "code",
   "execution_count": 2,
   "metadata": {},
   "outputs": [],
   "source": [
    "df = pd.read_csv('/datasets/insurance.csv')"
   ]
  },
  {
   "cell_type": "code",
   "execution_count": 3,
   "metadata": {},
   "outputs": [
    {
     "name": "stdout",
     "output_type": "stream",
     "text": [
      "<class 'pandas.core.frame.DataFrame'>\n",
      "RangeIndex: 5000 entries, 0 to 4999\n",
      "Data columns (total 5 columns):\n",
      " #   Column             Non-Null Count  Dtype  \n",
      "---  ------             --------------  -----  \n",
      " 0   Пол                5000 non-null   int64  \n",
      " 1   Возраст            5000 non-null   float64\n",
      " 2   Зарплата           5000 non-null   float64\n",
      " 3   Члены семьи        5000 non-null   int64  \n",
      " 4   Страховые выплаты  5000 non-null   int64  \n",
      "dtypes: float64(2), int64(3)\n",
      "memory usage: 195.4 KB\n",
      "None\n"
     ]
    }
   ],
   "source": [
    "print(df.info())"
   ]
  },
  {
   "cell_type": "code",
   "execution_count": 4,
   "metadata": {
    "scrolled": true
   },
   "outputs": [
    {
     "data": {
      "text/html": [
       "<div>\n",
       "<style scoped>\n",
       "    .dataframe tbody tr th:only-of-type {\n",
       "        vertical-align: middle;\n",
       "    }\n",
       "\n",
       "    .dataframe tbody tr th {\n",
       "        vertical-align: top;\n",
       "    }\n",
       "\n",
       "    .dataframe thead th {\n",
       "        text-align: right;\n",
       "    }\n",
       "</style>\n",
       "<table border=\"1\" class=\"dataframe\">\n",
       "  <thead>\n",
       "    <tr style=\"text-align: right;\">\n",
       "      <th></th>\n",
       "      <th>Пол</th>\n",
       "      <th>Возраст</th>\n",
       "      <th>Зарплата</th>\n",
       "      <th>Члены семьи</th>\n",
       "      <th>Страховые выплаты</th>\n",
       "    </tr>\n",
       "  </thead>\n",
       "  <tbody>\n",
       "    <tr>\n",
       "      <th>0</th>\n",
       "      <td>1</td>\n",
       "      <td>41.0</td>\n",
       "      <td>49600.0</td>\n",
       "      <td>1</td>\n",
       "      <td>0</td>\n",
       "    </tr>\n",
       "    <tr>\n",
       "      <th>1</th>\n",
       "      <td>0</td>\n",
       "      <td>46.0</td>\n",
       "      <td>38000.0</td>\n",
       "      <td>1</td>\n",
       "      <td>1</td>\n",
       "    </tr>\n",
       "    <tr>\n",
       "      <th>2</th>\n",
       "      <td>0</td>\n",
       "      <td>29.0</td>\n",
       "      <td>21000.0</td>\n",
       "      <td>0</td>\n",
       "      <td>0</td>\n",
       "    </tr>\n",
       "    <tr>\n",
       "      <th>3</th>\n",
       "      <td>0</td>\n",
       "      <td>21.0</td>\n",
       "      <td>41700.0</td>\n",
       "      <td>2</td>\n",
       "      <td>0</td>\n",
       "    </tr>\n",
       "    <tr>\n",
       "      <th>4</th>\n",
       "      <td>1</td>\n",
       "      <td>28.0</td>\n",
       "      <td>26100.0</td>\n",
       "      <td>0</td>\n",
       "      <td>0</td>\n",
       "    </tr>\n",
       "  </tbody>\n",
       "</table>\n",
       "</div>"
      ],
      "text/plain": [
       "   Пол  Возраст  Зарплата  Члены семьи  Страховые выплаты\n",
       "0    1     41.0   49600.0            1                  0\n",
       "1    0     46.0   38000.0            1                  1\n",
       "2    0     29.0   21000.0            0                  0\n",
       "3    0     21.0   41700.0            2                  0\n",
       "4    1     28.0   26100.0            0                  0"
      ]
     },
     "execution_count": 4,
     "metadata": {},
     "output_type": "execute_result"
    }
   ],
   "source": [
    "df.head()"
   ]
  },
  {
   "cell_type": "code",
   "execution_count": 5,
   "metadata": {
    "scrolled": true
   },
   "outputs": [
    {
     "data": {
      "text/html": [
       "<div>\n",
       "<style scoped>\n",
       "    .dataframe tbody tr th:only-of-type {\n",
       "        vertical-align: middle;\n",
       "    }\n",
       "\n",
       "    .dataframe tbody tr th {\n",
       "        vertical-align: top;\n",
       "    }\n",
       "\n",
       "    .dataframe thead th {\n",
       "        text-align: right;\n",
       "    }\n",
       "</style>\n",
       "<table border=\"1\" class=\"dataframe\">\n",
       "  <thead>\n",
       "    <tr style=\"text-align: right;\">\n",
       "      <th></th>\n",
       "      <th>Пол</th>\n",
       "      <th>Возраст</th>\n",
       "      <th>Зарплата</th>\n",
       "      <th>Члены семьи</th>\n",
       "      <th>Страховые выплаты</th>\n",
       "    </tr>\n",
       "  </thead>\n",
       "  <tbody>\n",
       "    <tr>\n",
       "      <th>count</th>\n",
       "      <td>5000.000000</td>\n",
       "      <td>5000.000000</td>\n",
       "      <td>5000.000000</td>\n",
       "      <td>5000.000000</td>\n",
       "      <td>5000.000000</td>\n",
       "    </tr>\n",
       "    <tr>\n",
       "      <th>mean</th>\n",
       "      <td>0.499000</td>\n",
       "      <td>30.952800</td>\n",
       "      <td>39916.360000</td>\n",
       "      <td>1.194200</td>\n",
       "      <td>0.148000</td>\n",
       "    </tr>\n",
       "    <tr>\n",
       "      <th>std</th>\n",
       "      <td>0.500049</td>\n",
       "      <td>8.440807</td>\n",
       "      <td>9900.083569</td>\n",
       "      <td>1.091387</td>\n",
       "      <td>0.463183</td>\n",
       "    </tr>\n",
       "    <tr>\n",
       "      <th>min</th>\n",
       "      <td>0.000000</td>\n",
       "      <td>18.000000</td>\n",
       "      <td>5300.000000</td>\n",
       "      <td>0.000000</td>\n",
       "      <td>0.000000</td>\n",
       "    </tr>\n",
       "    <tr>\n",
       "      <th>25%</th>\n",
       "      <td>0.000000</td>\n",
       "      <td>24.000000</td>\n",
       "      <td>33300.000000</td>\n",
       "      <td>0.000000</td>\n",
       "      <td>0.000000</td>\n",
       "    </tr>\n",
       "    <tr>\n",
       "      <th>50%</th>\n",
       "      <td>0.000000</td>\n",
       "      <td>30.000000</td>\n",
       "      <td>40200.000000</td>\n",
       "      <td>1.000000</td>\n",
       "      <td>0.000000</td>\n",
       "    </tr>\n",
       "    <tr>\n",
       "      <th>75%</th>\n",
       "      <td>1.000000</td>\n",
       "      <td>37.000000</td>\n",
       "      <td>46600.000000</td>\n",
       "      <td>2.000000</td>\n",
       "      <td>0.000000</td>\n",
       "    </tr>\n",
       "    <tr>\n",
       "      <th>max</th>\n",
       "      <td>1.000000</td>\n",
       "      <td>65.000000</td>\n",
       "      <td>79000.000000</td>\n",
       "      <td>6.000000</td>\n",
       "      <td>5.000000</td>\n",
       "    </tr>\n",
       "  </tbody>\n",
       "</table>\n",
       "</div>"
      ],
      "text/plain": [
       "               Пол      Возраст      Зарплата  Члены семьи  Страховые выплаты\n",
       "count  5000.000000  5000.000000   5000.000000  5000.000000        5000.000000\n",
       "mean      0.499000    30.952800  39916.360000     1.194200           0.148000\n",
       "std       0.500049     8.440807   9900.083569     1.091387           0.463183\n",
       "min       0.000000    18.000000   5300.000000     0.000000           0.000000\n",
       "25%       0.000000    24.000000  33300.000000     0.000000           0.000000\n",
       "50%       0.000000    30.000000  40200.000000     1.000000           0.000000\n",
       "75%       1.000000    37.000000  46600.000000     2.000000           0.000000\n",
       "max       1.000000    65.000000  79000.000000     6.000000           5.000000"
      ]
     },
     "execution_count": 5,
     "metadata": {},
     "output_type": "execute_result"
    }
   ],
   "source": [
    "df.describe()"
   ]
  },
  {
   "cell_type": "code",
   "execution_count": 6,
   "metadata": {},
   "outputs": [
    {
     "data": {
      "text/plain": [
       "0    2505\n",
       "1    2495\n",
       "Name: Пол, dtype: int64"
      ]
     },
     "execution_count": 6,
     "metadata": {},
     "output_type": "execute_result"
    }
   ],
   "source": [
    "df['Пол'].value_counts()"
   ]
  },
  {
   "cell_type": "code",
   "execution_count": 7,
   "metadata": {
    "scrolled": false
   },
   "outputs": [
    {
     "data": {
      "image/png": "[encoded data removed]",
      "text/plain": [
       "<Figure size 720x1080 with 1 Axes>"
      ]
     },
     "metadata": {
      "needs_background": "light"
     },
     "output_type": "display_data"
    }
   ],
   "source": [
    "(\n",
    "    df['Пол']\n",
    "    .value_counts()\n",
    "    .plot(kind='bar',\n",
    "          figsize = (10,15), \n",
    "          label = 'Пол', \n",
    "          grid =True)\n",
    ")\n",
    "plt.title('Мужчины и женщины')\n",
    "plt.xlabel(\"0 - Мужчины                                                            1 - Женщины\")\n",
    "plt.ylabel(\"Количество\")\n",
    "plt.show()\n"
   ]
  },
  {
   "cell_type": "code",
   "execution_count": 8,
   "metadata": {
    "scrolled": false
   },
   "outputs": [
    {
     "data": {
      "image/png": "[encoded data removed]",
      "text/plain": [
       "<Figure size 720x1080 with 1 Axes>"
      ]
     },
     "metadata": {
      "needs_background": "light"
     },
     "output_type": "display_data"
    }
   ],
   "source": [
    "(\n",
    "    df['Возраст']\n",
    "    .value_counts()\n",
    "    .plot(kind='barh',\n",
    "          figsize = (10,15), \n",
    "          label = 'Пол', \n",
    "          grid =True)\n",
    ")\n",
    "plt.title('Разбивка по возрастам')\n",
    "plt.xlabel(\"Количество\")\n",
    "plt.ylabel(\"Возраст\")\n",
    "plt.show()\n"
   ]
  },
  {
   "cell_type": "code",
   "execution_count": 9,
   "metadata": {
    "scrolled": false
   },
   "outputs": [
    {
     "data": {
      "image/png": "[encoded data removed]",
      "text/plain": [
       "<Figure size 720x1080 with 1 Axes>"
      ]
     },
     "metadata": {
      "needs_background": "light"
     },
     "output_type": "display_data"
    }
   ],
   "source": [
    "df[\"Зарплата\"].plot(kind = 'box', figsize = (10, 15), label ='Зарплата')\n",
    "plt.show()"
   ]
  },
  {
   "cell_type": "code",
   "execution_count": 10,
   "metadata": {},
   "outputs": [
    {
     "data": {
      "image/png": "[encoded data removed]",
      "text/plain": [
       "<Figure size 720x1080 with 1 Axes>"
      ]
     },
     "metadata": {},
     "output_type": "display_data"
    },
    {
     "data": {
      "text/plain": [
       "1    1814\n",
       "0    1513\n",
       "2    1071\n",
       "3     439\n",
       "4     124\n",
       "5      32\n",
       "6       7\n",
       "Name: Члены семьи, dtype: int64"
      ]
     },
     "execution_count": 10,
     "metadata": {},
     "output_type": "execute_result"
    }
   ],
   "source": [
    "(\n",
    "    df['Члены семьи']\n",
    "    .value_counts()\n",
    "    .plot(kind='pie',\n",
    "          figsize = (10,15), \n",
    "          grid =True)\n",
    ")\n",
    "plt.title('Количество членов семьи')\n",
    "plt.show()\n",
    "\n",
    "df['Члены семьи'].value_counts()"
   ]
  },
  {
   "cell_type": "code",
   "execution_count": 11,
   "metadata": {},
   "outputs": [
    {
     "data": {
      "image/png": "[encoded data removed]",
      "text/plain": [
       "<Figure size 720x1080 with 1 Axes>"
      ]
     },
     "metadata": {},
     "output_type": "display_data"
    },
    {
     "data": {
      "text/plain": [
       "0    4436\n",
       "1     423\n",
       "2     115\n",
       "3      18\n",
       "4       7\n",
       "5       1\n",
       "Name: Страховые выплаты, dtype: int64"
      ]
     },
     "execution_count": 11,
     "metadata": {},
     "output_type": "execute_result"
    }
   ],
   "source": [
    "(\n",
    "    df['Страховые выплаты']\n",
    "    .value_counts()\n",
    "    .plot(kind='pie',\n",
    "          figsize = (10,15), \n",
    "          grid =True)\n",
    ")\n",
    "plt.title('Страховые выплаты')\n",
    "plt.show()\n",
    "\n",
    "df['Страховые выплаты'].value_counts()\n"
   ]
  },
  {
   "cell_type": "markdown",
   "metadata": {},
   "source": [
    "### Вывод:\n"
   ]
  },
  {
   "cell_type": "markdown",
   "metadata": {},
   "source": [
    "* В датафрейме 5000 строк.\n",
    "* Данные в предобработке не нуждаются.\n",
    "* Разделение по полу почти в равном количестве."
   ]
  },
  {
   "cell_type": "markdown",
   "metadata": {},
   "source": [
    "## Умножение матриц"
   ]
  },
  {
   "cell_type": "markdown",
   "metadata": {},
   "source": [
    "В этом задании вы можете записывать формулы в *Jupyter Notebook.*\n",
    "\n",
    "Чтобы записать формулу внутри текста, окружите её символами доллара \\\\$; если снаружи —  двойными символами \\\\$\\\\$. Эти формулы записываются на языке вёрстки *LaTeX.* \n",
    "\n",
    "Для примера мы записали формулы линейной регрессии. Можете их скопировать и отредактировать, чтобы решить задачу.\n",
    "\n",
    "Работать в *LaTeX* необязательно."
   ]
  },
  {
   "cell_type": "markdown",
   "metadata": {},
   "source": [
    "Обозначения:\n",
    "\n",
    "- $X$ — матрица признаков (нулевой столбец состоит из единиц)\n",
    "\n",
    "- $y$ — вектор целевого признака\n",
    "\n",
    "- $P$ — матрица, на которую умножаются признаки\n",
    "\n",
    "- $w$ — вектор весов линейной регрессии (нулевой элемент равен сдвигу)"
   ]
  },
  {
   "cell_type": "markdown",
   "metadata": {},
   "source": [
    "Предсказания:\n",
    "\n",
    "$$\n",
    "a = Xw\n",
    "$$\n",
    "\n",
    "Задача обучения:\n",
    "\n",
    "$$\n",
    "w = \\arg\\min_w MSE(Xw, y)\n",
    "$$\n",
    "\n",
    "Формула обучения:\n",
    "\n",
    "$$\n",
    "w = (X^T X)^{-1} X^T y\n",
    "$$"
   ]
  },
  {
   "cell_type": "markdown",
   "metadata": {},
   "source": [
    "**Вопрос: Признаки умножают на обратимую матрицу. Изменится ли качество линейной регрессии? (Её можно обучить заново.)**\n",
    "* a. Изменится. Приведите примеры матриц.\n",
    "* b. Не изменится. Укажите, как связаны параметры линейной регрессии в исходной задаче и в преобразованной.\n"
   ]
  },
  {
   "cell_type": "markdown",
   "metadata": {},
   "source": [
    "**Ответ:** Не изменится.\n",
    "\n",
    "**Обоснование:**\n",
    "\n",
    "Признаки умножают на обратимую матрицу $P$:\n",
    "\n",
    "$$\n",
    "w_1 = ((XP)^T XP)^{-1} (XP)^T y\n",
    "$$\n",
    "\n",
    "Транспонированное произведение матриц равно произведению транспонированных матриц, взятых в обратном порядке\n",
    "\n",
    "$$\n",
    "w_1 = (P^T X^T XP)^{-1} P^T X^T y\n",
    "$$\n",
    "\n",
    "Используя формулу\n",
    "\n",
    "$$\n",
    "(A * B)^{-1} = B^{-1} * A ^{-1}\n",
    "$$\n",
    "\n",
    "\n",
    "где $A$ и $B$ квадратные <br>\n",
    "$P$, $P^T$ и $X^T X$ квадратные\n",
    "\n",
    "\n",
    "$$\n",
    "w_1 = P^{-1} ( X^T X)^{-1} (P^T)^{-1} P^T X^T y\n",
    "$$\n",
    "\n",
    "Умножение матрицы на обратную матрицу равно единичной матрице\n",
    "\n",
    "$$\n",
    "w_1 = P^{-1} ( X^T X)^{-1} IX^T y\n",
    "$$\n",
    "\n",
    "Умножение любой матрицы на единичную равно этой самой матрице.\n",
    "\n",
    "$$\n",
    "w_1 = P^{-1} ( X^T X)^{-1} X^T y\n",
    "$$\n",
    "\n",
    "\n",
    "$$\n",
    "a_1 = XPw_1\n",
    "$$\n",
    "\n",
    "$$\n",
    "a_1 = XPP^{-1} ( X^T X)^{-1} X^T y\n",
    "$$\n",
    "\n",
    "$$\n",
    "a_1 = X( X^T X)^{-1} X^T y\n",
    "$$\n",
    "\n",
    "$$\n",
    "a_1 = Xw\n",
    "$$"
   ]
  },
  {
   "cell_type": "markdown",
   "metadata": {},
   "source": [
    "### Вывод: "
   ]
  },
  {
   "cell_type": "markdown",
   "metadata": {},
   "source": [
    "Посредством преобразования формулы мы выяснили, что при умножении признаков на обратимую матрицу качество не меняется."
   ]
  },
  {
   "cell_type": "markdown",
   "metadata": {},
   "source": [
    "## Алгоритм преобразования"
   ]
  },
  {
   "cell_type": "markdown",
   "metadata": {},
   "source": [
    "### **Алгоритм**"
   ]
  },
  {
   "cell_type": "markdown",
   "metadata": {},
   "source": [
    "* Необходимо умножить матрицу признаков на матрицу шифрования так-как при умножении количество столбцов матрицы $A$ должно быть равно количеству строк матрицы, полученная матрица будет иметь количество строк матрицы $A$ и количество столбцов матрицы $B$.\n",
    "* Поэтому размер матрицы щифрования на которую умножают равен 4х4\n",
    "\n",
    "* Матрицу шифрования сгенерируем с помощью np.random.normal()"
   ]
  },
  {
   "cell_type": "markdown",
   "metadata": {},
   "source": [
    "### **Обоснование**"
   ]
  },
  {
   "cell_type": "markdown",
   "metadata": {},
   "source": [
    "Разделим датафрейм на признаки и целевой признак:\n"
   ]
  },
  {
   "cell_type": "code",
   "execution_count": 12,
   "metadata": {},
   "outputs": [],
   "source": [
    "features = df.drop('Страховые выплаты', axis=1)\n",
    "target = df['Страховые выплаты']"
   ]
  },
  {
   "cell_type": "markdown",
   "metadata": {},
   "source": [
    "Создадим обратимую квадратную матрицу со случайными числами размерностью столбцов features:"
   ]
  },
  {
   "cell_type": "code",
   "execution_count": 13,
   "metadata": {},
   "outputs": [],
   "source": [
    "state = np.random.RandomState(12345)\n",
    "matrix_encryption=np.random.normal(size=(features.shape[1],features.shape[1]))"
   ]
  },
  {
   "cell_type": "code",
   "execution_count": 14,
   "metadata": {},
   "outputs": [
    {
     "data": {
      "text/plain": [
       "array([[-4.71159219,  0.39627532, -1.03948879, -2.66498895],\n",
       "       [ 2.36867442,  0.05468061,  0.01073095,  0.42617528],\n",
       "       [-2.01331389, -0.20276682, -0.120583  , -1.25255485],\n",
       "       [-0.98037155,  0.55572018,  0.06251808, -0.09098138]])"
      ]
     },
     "execution_count": 14,
     "metadata": {},
     "output_type": "execute_result"
    }
   ],
   "source": [
    "np.linalg.inv(matrix_encryption)\n"
   ]
  },
  {
   "cell_type": "markdown",
   "metadata": {},
   "source": [
    "Зашифруем даннные путем умножения матриц"
   ]
  },
  {
   "cell_type": "code",
   "execution_count": 15,
   "metadata": {
    "scrolled": true
   },
   "outputs": [
    {
     "data": {
      "text/html": [
       "<div>\n",
       "<style scoped>\n",
       "    .dataframe tbody tr th:only-of-type {\n",
       "        vertical-align: middle;\n",
       "    }\n",
       "\n",
       "    .dataframe tbody tr th {\n",
       "        vertical-align: top;\n",
       "    }\n",
       "\n",
       "    .dataframe thead th {\n",
       "        text-align: right;\n",
       "    }\n",
       "</style>\n",
       "<table border=\"1\" class=\"dataframe\">\n",
       "  <thead>\n",
       "    <tr style=\"text-align: right;\">\n",
       "      <th></th>\n",
       "      <th>0</th>\n",
       "      <th>1</th>\n",
       "      <th>2</th>\n",
       "      <th>3</th>\n",
       "    </tr>\n",
       "  </thead>\n",
       "  <tbody>\n",
       "    <tr>\n",
       "      <th>0</th>\n",
       "      <td>-56814.881819</td>\n",
       "      <td>26766.459302</td>\n",
       "      <td>123946.307345</td>\n",
       "      <td>83178.422792</td>\n",
       "    </tr>\n",
       "    <tr>\n",
       "      <th>1</th>\n",
       "      <td>-43525.817359</td>\n",
       "      <td>20517.865029</td>\n",
       "      <td>94957.186087</td>\n",
       "      <td>63748.710275</td>\n",
       "    </tr>\n",
       "    <tr>\n",
       "      <th>2</th>\n",
       "      <td>-24053.399842</td>\n",
       "      <td>11342.419855</td>\n",
       "      <td>52476.841743</td>\n",
       "      <td>35235.576207</td>\n",
       "    </tr>\n",
       "    <tr>\n",
       "      <th>3</th>\n",
       "      <td>-47767.118997</td>\n",
       "      <td>22490.266235</td>\n",
       "      <td>104204.071728</td>\n",
       "      <td>69907.983966</td>\n",
       "    </tr>\n",
       "    <tr>\n",
       "      <th>4</th>\n",
       "      <td>-29895.879673</td>\n",
       "      <td>14090.978110</td>\n",
       "      <td>65222.101869</td>\n",
       "      <td>43779.900842</td>\n",
       "    </tr>\n",
       "    <tr>\n",
       "      <th>...</th>\n",
       "      <td>...</td>\n",
       "      <td>...</td>\n",
       "      <td>...</td>\n",
       "      <td>...</td>\n",
       "    </tr>\n",
       "    <tr>\n",
       "      <th>4995</th>\n",
       "      <td>-40892.970119</td>\n",
       "      <td>19262.194548</td>\n",
       "      <td>89209.476036</td>\n",
       "      <td>59865.251409</td>\n",
       "    </tr>\n",
       "    <tr>\n",
       "      <th>4996</th>\n",
       "      <td>-60023.225472</td>\n",
       "      <td>28269.199899</td>\n",
       "      <td>130943.835050</td>\n",
       "      <td>87858.985400</td>\n",
       "    </tr>\n",
       "    <tr>\n",
       "      <th>4997</th>\n",
       "      <td>-38831.881052</td>\n",
       "      <td>18285.434605</td>\n",
       "      <td>84711.898377</td>\n",
       "      <td>56836.193814</td>\n",
       "    </tr>\n",
       "    <tr>\n",
       "      <th>4998</th>\n",
       "      <td>-37456.878937</td>\n",
       "      <td>17639.759190</td>\n",
       "      <td>81711.755901</td>\n",
       "      <td>54828.163738</td>\n",
       "    </tr>\n",
       "    <tr>\n",
       "      <th>4999</th>\n",
       "      <td>-46506.347267</td>\n",
       "      <td>21904.950456</td>\n",
       "      <td>101456.277634</td>\n",
       "      <td>68076.542871</td>\n",
       "    </tr>\n",
       "  </tbody>\n",
       "</table>\n",
       "<p>5000 rows × 4 columns</p>\n",
       "</div>"
      ],
      "text/plain": [
       "                 0             1              2             3\n",
       "0    -56814.881819  26766.459302  123946.307345  83178.422792\n",
       "1    -43525.817359  20517.865029   94957.186087  63748.710275\n",
       "2    -24053.399842  11342.419855   52476.841743  35235.576207\n",
       "3    -47767.118997  22490.266235  104204.071728  69907.983966\n",
       "4    -29895.879673  14090.978110   65222.101869  43779.900842\n",
       "...            ...           ...            ...           ...\n",
       "4995 -40892.970119  19262.194548   89209.476036  59865.251409\n",
       "4996 -60023.225472  28269.199899  130943.835050  87858.985400\n",
       "4997 -38831.881052  18285.434605   84711.898377  56836.193814\n",
       "4998 -37456.878937  17639.759190   81711.755901  54828.163738\n",
       "4999 -46506.347267  21904.950456  101456.277634  68076.542871\n",
       "\n",
       "[5000 rows x 4 columns]"
      ]
     },
     "execution_count": 15,
     "metadata": {},
     "output_type": "execute_result"
    }
   ],
   "source": [
    "features_encryption = features @ matrix_encryption\n",
    "features_encryption"
   ]
  },
  {
   "cell_type": "markdown",
   "metadata": {},
   "source": [
    "### Вывод:"
   ]
  },
  {
   "cell_type": "markdown",
   "metadata": {},
   "source": [
    "После умножения размер матрицы признаков и кодированных признаков совпадает."
   ]
  },
  {
   "cell_type": "markdown",
   "metadata": {},
   "source": [
    "## Проверка алгоритма"
   ]
  },
  {
   "cell_type": "markdown",
   "metadata": {},
   "source": [
    "### Качество линейной регресии на нешифрованных данных"
   ]
  },
  {
   "cell_type": "code",
   "execution_count": 16,
   "metadata": {},
   "outputs": [
    {
     "name": "stdout",
     "output_type": "stream",
     "text": [
      "R2: 0.4249455028666801\n"
     ]
    }
   ],
   "source": [
    "model = LinearRegression()\n",
    "model.fit(features, target)\n",
    "predictions = model.predict(features)\n",
    "print(\"R2:\", r2_score(target, predictions))"
   ]
  },
  {
   "cell_type": "markdown",
   "metadata": {},
   "source": [
    "### Качество линейной регресии c шифрованием данных"
   ]
  },
  {
   "cell_type": "code",
   "execution_count": 17,
   "metadata": {},
   "outputs": [
    {
     "name": "stdout",
     "output_type": "stream",
     "text": [
      "R2: 0.4249455028666801\n"
     ]
    }
   ],
   "source": [
    "model = LinearRegression()\n",
    "model.fit(features_encryption, target)\n",
    "prediction = model.predict(features_encryption)\n",
    "print(\"R2:\", r2_score(target, predictions))"
   ]
  },
  {
   "cell_type": "markdown",
   "metadata": {},
   "source": [
    "##  Вывод:\n"
   ]
  },
  {
   "cell_type": "markdown",
   "metadata": {},
   "source": [
    "В результате нашей работы был разработан алгоритм, где данные были преобразованы методом умножения признаков исходных данных на обратимую матрицу P. Результатом такого преобразования явилась новая (изменённая) матрица признаков, которая справилась с основными задачами по шифровке данных и при сравнении качества предсказаний с моделью из Scikit−learn, сохранила значения R2 и MSE неизменными.\n",
    "\n",
    "Таким образом мы выполнили требования поставелнной задачи и компания «Хоть потоп» может спать спокойно!"
   ]
  }
 ],
 "metadata": {
  "ExecuteTimeLog": [
   {
    "duration": 1046,
    "start_time": "2022-12-06T05:12:46.864Z"
   },
   {
    "duration": 70,
    "start_time": "2022-12-06T05:13:50.672Z"
   },
   {
    "duration": 92,
    "start_time": "2022-12-06T05:14:04.219Z"
   },
   {
    "duration": 8,
    "start_time": "2022-12-06T05:14:14.326Z"
   },
   {
    "duration": 11,
    "start_time": "2022-12-06T05:14:20.567Z"
   },
   {
    "duration": 15,
    "start_time": "2022-12-06T05:14:33.031Z"
   },
   {
    "duration": 22,
    "start_time": "2022-12-06T05:15:06.098Z"
   },
   {
    "duration": 5,
    "start_time": "2022-12-06T05:15:46.035Z"
   },
   {
    "duration": 42,
    "start_time": "2022-12-06T05:22:13.062Z"
   },
   {
    "duration": 43,
    "start_time": "2022-12-06T05:48:01.875Z"
   },
   {
    "duration": 4,
    "start_time": "2022-12-06T05:51:18.048Z"
   },
   {
    "duration": 39,
    "start_time": "2022-12-06T05:51:52.116Z"
   },
   {
    "duration": 3,
    "start_time": "2022-12-06T05:52:01.991Z"
   },
   {
    "duration": 40,
    "start_time": "2022-12-06T05:52:26.260Z"
   },
   {
    "duration": 11,
    "start_time": "2022-12-06T05:52:46.212Z"
   },
   {
    "duration": 9,
    "start_time": "2022-12-06T05:53:15.661Z"
   },
   {
    "duration": 43,
    "start_time": "2022-12-06T05:53:37.107Z"
   },
   {
    "duration": 46,
    "start_time": "2022-12-06T05:54:31.581Z"
   },
   {
    "duration": 45,
    "start_time": "2022-12-06T05:54:34.377Z"
   },
   {
    "duration": 52,
    "start_time": "2022-12-06T05:54:40.120Z"
   },
   {
    "duration": 17,
    "start_time": "2022-12-06T05:56:01.722Z"
   },
   {
    "duration": 43,
    "start_time": "2022-12-06T05:56:17.610Z"
   },
   {
    "duration": 8,
    "start_time": "2022-12-06T05:58:09.283Z"
   },
   {
    "duration": 9,
    "start_time": "2022-12-06T05:58:39.053Z"
   },
   {
    "duration": 3,
    "start_time": "2022-12-06T05:58:49.454Z"
   },
   {
    "duration": 11,
    "start_time": "2022-12-06T05:58:50.906Z"
   },
   {
    "duration": 17,
    "start_time": "2022-12-06T05:59:10.951Z"
   },
   {
    "duration": 8,
    "start_time": "2022-12-06T06:00:05.989Z"
   },
   {
    "duration": 9,
    "start_time": "2022-12-06T06:00:16.114Z"
   },
   {
    "duration": 8,
    "start_time": "2022-12-06T06:00:34.792Z"
   },
   {
    "duration": 47,
    "start_time": "2022-12-06T06:02:24.902Z"
   },
   {
    "duration": 1047,
    "start_time": "2022-12-06T06:02:49.590Z"
   },
   {
    "duration": 27,
    "start_time": "2022-12-06T06:02:50.638Z"
   },
   {
    "duration": 10,
    "start_time": "2022-12-06T06:02:50.667Z"
   },
   {
    "duration": 13,
    "start_time": "2022-12-06T06:02:50.679Z"
   },
   {
    "duration": 19,
    "start_time": "2022-12-06T06:02:50.694Z"
   },
   {
    "duration": 6,
    "start_time": "2022-12-06T06:02:50.715Z"
   },
   {
    "duration": 7,
    "start_time": "2022-12-06T06:02:50.723Z"
   },
   {
    "duration": 6,
    "start_time": "2022-12-06T06:02:50.731Z"
   },
   {
    "duration": 21,
    "start_time": "2022-12-06T06:02:50.739Z"
   },
   {
    "duration": 21,
    "start_time": "2022-12-06T06:02:50.762Z"
   },
   {
    "duration": 144,
    "start_time": "2022-12-06T06:02:50.784Z"
   },
   {
    "duration": 1942,
    "start_time": "2022-12-06T08:38:14.207Z"
   },
   {
    "duration": 73,
    "start_time": "2022-12-06T08:38:16.150Z"
   },
   {
    "duration": 12,
    "start_time": "2022-12-06T08:39:26.909Z"
   },
   {
    "duration": 14,
    "start_time": "2022-12-06T08:39:27.414Z"
   },
   {
    "duration": 22,
    "start_time": "2022-12-06T08:39:27.864Z"
   },
   {
    "duration": 6,
    "start_time": "2022-12-06T08:39:28.530Z"
   },
   {
    "duration": 3,
    "start_time": "2022-12-06T08:46:40.994Z"
   },
   {
    "duration": 4,
    "start_time": "2022-12-06T08:46:42.466Z"
   },
   {
    "duration": 1522,
    "start_time": "2022-12-07T05:34:26.249Z"
   },
   {
    "duration": 101,
    "start_time": "2022-12-07T05:35:45.046Z"
   },
   {
    "duration": 1474,
    "start_time": "2022-12-07T05:35:59.647Z"
   },
   {
    "duration": 99,
    "start_time": "2022-12-07T05:36:01.123Z"
   },
   {
    "duration": 13,
    "start_time": "2022-12-07T05:36:01.223Z"
   },
   {
    "duration": 40,
    "start_time": "2022-12-07T05:36:01.239Z"
   },
   {
    "duration": 48,
    "start_time": "2022-12-07T05:36:01.280Z"
   },
   {
    "duration": 22,
    "start_time": "2022-12-07T05:36:01.329Z"
   },
   {
    "duration": 4,
    "start_time": "2022-12-07T05:36:57.962Z"
   },
   {
    "duration": 15,
    "start_time": "2022-12-07T05:36:57.977Z"
   },
   {
    "duration": 33,
    "start_time": "2022-12-07T05:36:57.995Z"
   },
   {
    "duration": 20,
    "start_time": "2022-12-07T05:36:58.029Z"
   },
   {
    "duration": 129,
    "start_time": "2022-12-07T05:36:58.051Z"
   },
   {
    "duration": 32856,
    "start_time": "2022-12-07T05:36:58.186Z"
   },
   {
    "duration": 1341,
    "start_time": "2022-12-07T05:47:06.504Z"
   },
   {
    "duration": 125,
    "start_time": "2022-12-07T05:52:04.177Z"
   },
   {
    "duration": 119,
    "start_time": "2022-12-07T05:52:16.984Z"
   },
   {
    "duration": 222,
    "start_time": "2022-12-07T05:52:45.495Z"
   },
   {
    "duration": 68,
    "start_time": "2022-12-07T05:53:29.933Z"
   },
   {
    "duration": 227,
    "start_time": "2022-12-07T05:53:35.994Z"
   },
   {
    "duration": 114,
    "start_time": "2022-12-07T05:54:49.390Z"
   },
   {
    "duration": 59147,
    "start_time": "2022-12-07T05:56:36.055Z"
   },
   {
    "duration": 27092,
    "start_time": "2022-12-07T05:59:09.608Z"
   },
   {
    "duration": 11,
    "start_time": "2022-12-07T06:00:56.053Z"
   },
   {
    "duration": 9,
    "start_time": "2022-12-07T06:01:23.743Z"
   },
   {
    "duration": 64,
    "start_time": "2022-12-07T06:03:08.638Z"
   },
   {
    "duration": 111,
    "start_time": "2022-12-07T06:03:20.178Z"
   },
   {
    "duration": 96,
    "start_time": "2022-12-07T06:05:51.641Z"
   },
   {
    "duration": 293,
    "start_time": "2022-12-07T06:06:17.368Z"
   },
   {
    "duration": 248,
    "start_time": "2022-12-07T06:06:49.570Z"
   },
   {
    "duration": 226,
    "start_time": "2022-12-07T06:07:04.996Z"
   },
   {
    "duration": 152,
    "start_time": "2022-12-07T06:07:40.919Z"
   },
   {
    "duration": 134,
    "start_time": "2022-12-07T06:08:26.772Z"
   },
   {
    "duration": 104,
    "start_time": "2022-12-07T06:10:02.149Z"
   },
   {
    "duration": 102,
    "start_time": "2022-12-07T06:10:49.834Z"
   },
   {
    "duration": 119,
    "start_time": "2022-12-07T06:10:56.909Z"
   },
   {
    "duration": 112,
    "start_time": "2022-12-07T06:11:04.053Z"
   },
   {
    "duration": 110,
    "start_time": "2022-12-07T06:11:13.260Z"
   },
   {
    "duration": 133,
    "start_time": "2022-12-07T06:13:33.854Z"
   },
   {
    "duration": 127,
    "start_time": "2022-12-07T06:13:55.026Z"
   },
   {
    "duration": 125,
    "start_time": "2022-12-07T06:16:57.088Z"
   },
   {
    "duration": 154,
    "start_time": "2022-12-07T06:17:20.598Z"
   },
   {
    "duration": 135,
    "start_time": "2022-12-07T06:22:14.335Z"
   },
   {
    "duration": 135,
    "start_time": "2022-12-07T06:22:53.603Z"
   },
   {
    "duration": 155,
    "start_time": "2022-12-07T06:22:58.428Z"
   },
   {
    "duration": 139,
    "start_time": "2022-12-07T06:23:04.707Z"
   },
   {
    "duration": 152,
    "start_time": "2022-12-07T06:23:11.980Z"
   },
   {
    "duration": 99,
    "start_time": "2022-12-07T06:24:53.247Z"
   },
   {
    "duration": 143,
    "start_time": "2022-12-07T06:25:28.983Z"
   },
   {
    "duration": 472,
    "start_time": "2022-12-07T06:25:42.973Z"
   },
   {
    "duration": 559,
    "start_time": "2022-12-07T06:26:33.821Z"
   },
   {
    "duration": 94,
    "start_time": "2022-12-07T06:28:44.229Z"
   },
   {
    "duration": 66,
    "start_time": "2022-12-07T06:29:35.261Z"
   },
   {
    "duration": 163,
    "start_time": "2022-12-07T06:34:30.720Z"
   },
   {
    "duration": 544,
    "start_time": "2022-12-07T06:34:40.406Z"
   },
   {
    "duration": 490,
    "start_time": "2022-12-07T06:35:59.024Z"
   },
   {
    "duration": 8166,
    "start_time": "2022-12-07T06:36:12.632Z"
   },
   {
    "duration": 8055,
    "start_time": "2022-12-07T06:36:59.961Z"
   },
   {
    "duration": 7425,
    "start_time": "2022-12-07T06:39:15.905Z"
   },
   {
    "duration": 4588,
    "start_time": "2022-12-07T06:39:52.176Z"
   },
   {
    "duration": 58,
    "start_time": "2022-12-07T10:18:04.168Z"
   },
   {
    "duration": 7,
    "start_time": "2022-12-07T10:18:11.583Z"
   },
   {
    "duration": 8,
    "start_time": "2022-12-07T10:21:51.686Z"
   },
   {
    "duration": 1594,
    "start_time": "2022-12-07T10:22:00.539Z"
   },
   {
    "duration": 97,
    "start_time": "2022-12-07T10:22:02.135Z"
   },
   {
    "duration": 14,
    "start_time": "2022-12-07T10:22:02.234Z"
   },
   {
    "duration": 15,
    "start_time": "2022-12-07T10:22:02.249Z"
   },
   {
    "duration": 26,
    "start_time": "2022-12-07T10:22:02.266Z"
   },
   {
    "duration": 20,
    "start_time": "2022-12-07T10:22:02.295Z"
   },
   {
    "duration": 193,
    "start_time": "2022-12-07T10:22:02.317Z"
   },
   {
    "duration": 529,
    "start_time": "2022-12-07T10:22:02.512Z"
   },
   {
    "duration": 149,
    "start_time": "2022-12-07T10:22:03.043Z"
   },
   {
    "duration": 4,
    "start_time": "2022-12-07T10:22:03.194Z"
   },
   {
    "duration": 16,
    "start_time": "2022-12-07T10:22:03.200Z"
   },
   {
    "duration": 27,
    "start_time": "2022-12-07T10:22:03.218Z"
   },
   {
    "duration": 165,
    "start_time": "2022-12-07T10:22:03.248Z"
   },
   {
    "duration": 11,
    "start_time": "2022-12-07T10:22:03.416Z"
   },
   {
    "duration": 247,
    "start_time": "2022-12-07T10:22:49.069Z"
   },
   {
    "duration": 157,
    "start_time": "2022-12-07T10:24:19.619Z"
   },
   {
    "duration": 154,
    "start_time": "2022-12-07T10:25:37.290Z"
   },
   {
    "duration": 148,
    "start_time": "2022-12-07T10:26:16.998Z"
   },
   {
    "duration": 196,
    "start_time": "2022-12-07T10:27:18.377Z"
   },
   {
    "duration": 148,
    "start_time": "2022-12-07T10:27:57.864Z"
   },
   {
    "duration": 132,
    "start_time": "2022-12-07T10:28:59.151Z"
   },
   {
    "duration": 147,
    "start_time": "2022-12-07T10:29:39.821Z"
   },
   {
    "duration": 149,
    "start_time": "2022-12-07T10:30:27.590Z"
   },
   {
    "duration": 53,
    "start_time": "2022-12-07T10:32:00.818Z"
   },
   {
    "duration": 56,
    "start_time": "2022-12-07T10:32:14.351Z"
   },
   {
    "duration": 70,
    "start_time": "2022-12-07T10:32:45.968Z"
   },
   {
    "duration": 51,
    "start_time": "2022-12-07T10:32:54.904Z"
   },
   {
    "duration": 158,
    "start_time": "2022-12-07T10:37:47.671Z"
   },
   {
    "duration": 5,
    "start_time": "2022-12-07T10:38:14.199Z"
   },
   {
    "duration": 3,
    "start_time": "2022-12-07T10:39:34.192Z"
   },
   {
    "duration": 1396,
    "start_time": "2022-12-07T10:39:41.899Z"
   },
   {
    "duration": 30,
    "start_time": "2022-12-07T10:39:43.297Z"
   },
   {
    "duration": 12,
    "start_time": "2022-12-07T10:39:43.329Z"
   },
   {
    "duration": 14,
    "start_time": "2022-12-07T10:39:43.342Z"
   },
   {
    "duration": 24,
    "start_time": "2022-12-07T10:39:43.359Z"
   },
   {
    "duration": 5,
    "start_time": "2022-12-07T10:39:43.385Z"
   },
   {
    "duration": 192,
    "start_time": "2022-12-07T10:39:43.391Z"
   },
   {
    "duration": 519,
    "start_time": "2022-12-07T10:39:43.585Z"
   },
   {
    "duration": 159,
    "start_time": "2022-12-07T10:39:44.105Z"
   },
   {
    "duration": 149,
    "start_time": "2022-12-07T10:39:44.266Z"
   },
   {
    "duration": 158,
    "start_time": "2022-12-07T10:39:44.417Z"
   },
   {
    "duration": 4,
    "start_time": "2022-12-07T10:39:44.577Z"
   },
   {
    "duration": 6,
    "start_time": "2022-12-07T10:39:44.582Z"
   },
   {
    "duration": 25,
    "start_time": "2022-12-07T10:39:44.591Z"
   },
   {
    "duration": 95,
    "start_time": "2022-12-07T10:39:44.618Z"
   },
   {
    "duration": 11,
    "start_time": "2022-12-07T10:39:44.715Z"
   },
   {
    "duration": 109,
    "start_time": "2022-12-07T10:39:44.813Z"
   }
  ],
  "kernelspec": {
   "display_name": "Python 3 (ipykernel)",
   "language": "python",
   "name": "python3"
  },
  "language_info": {
   "codemirror_mode": {
    "name": "ipython",
    "version": 3
   },
   "file_extension": ".py",
   "mimetype": "text/x-python",
   "name": "python",
   "nbconvert_exporter": "python",
   "pygments_lexer": "ipython3",
   "version": "3.9.7"
  },
  "toc": {
   "base_numbering": 1,
   "nav_menu": {},
   "number_sections": true,
   "sideBar": true,
   "skip_h1_title": true,
   "title_cell": "Содержание",
   "title_sidebar": "Contents",
   "toc_cell": true,
   "toc_position": {},
   "toc_section_display": true,
   "toc_window_display": true
  }
 },
 "nbformat": 4,
 "nbformat_minor": 2
}
